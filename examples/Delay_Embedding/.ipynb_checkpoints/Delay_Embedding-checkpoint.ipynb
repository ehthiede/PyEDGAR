{
 "cells": [
  {
   "cell_type": "markdown",
   "metadata": {},
   "source": [
    "# Delay Embedding and the MFPT\n",
    "\n",
    "Here, we give an example script, showing the effect of Delay Embedding on a Brownian motion on the Muller-Brown potential, projeted onto its y-axis.  This script may take a long time to run, as considerable data is required to accurately reconstruct the hidden degrees of freedom."
   ]
  },
  {
   "cell_type": "code",
   "execution_count": 1,
   "metadata": {},
   "outputs": [],
   "source": [
    "import matplotlib.pyplot as plt\n",
    "import numpy as np\n",
    "import pyedgar\n",
    "from pyedgar.data_manipulation import tlist_to_flat, flat_to_tlist, delay_embed, lift_function\n",
    "\n",
    "%matplotlib inline"
   ]
  },
  {
   "cell_type": "markdown",
   "metadata": {},
   "source": [
    "## Load Data and set Hyperparameters\n",
    "We first load in the pre-sampled data.  The data consists of 400 short trajectories, each with 30 datapoints.  The precise sampling procedure is described in \"Galerkin Approximation of Dynamical Quantities using Trajectory Data\" by Thiede et al.  Note that this is a smaller dataset than in the paper.  We use a smallar dataset to ensure the diffusion map basis construction runs in a reasonably short time."
   ]
  },
  {
   "cell_type": "markdown",
   "metadata": {},
   "source": [
    "### Set Hyperparameters\n",
    "Here we specify a few hyperparameters.  Thes can be varied to study the behavior of the scheme in various limits by the user."
   ]
  },
  {
   "cell_type": "code",
   "execution_count": 2,
   "metadata": {},
   "outputs": [],
   "source": [
    "ntraj = 700\n",
    "trajectory_length = 40\n",
    "lag_values = np.arange(1, 37, 2)\n",
    "embedding_values = lag_values[1:] - 1"
   ]
  },
  {
   "cell_type": "markdown",
   "metadata": {},
   "source": [
    "### Load and format the data"
   ]
  },
  {
   "cell_type": "code",
   "execution_count": 3,
   "metadata": {},
   "outputs": [],
   "source": [
    "trajs_2d = np.load('data/muller_brown_trajs.npy')[:ntraj, :trajectory_length] # Raw trajectory\n",
    "trajs = trajs_2d[:, :, 1] # Only keep y coordinate\n",
    "stateA = (trajs > 1.15).astype('float')\n",
    "stateB = (trajs < 0.15).astype('float')\n",
    "\n",
    "# Convert to list of trajectories format\n",
    "trajs = [traj_i.reshape(-1, 1) for traj_i in trajs]\n",
    "stateA = [A_i for A_i in stateA]\n",
    "stateB = [B_i for B_i in stateB]\n",
    "\n",
    "# Load the true results\n",
    "true_mfpt = np.load('data/htAB_1_0_0_1.npy')"
   ]
  },
  {
   "cell_type": "markdown",
   "metadata": {},
   "source": [
    "We also convert the data into the flattened format.  This converts the data into a 2D array, which allows the data to be passed into many ML packages that require a two-dimensional dataset.  In particular, this is the format accepted by the Diffusion Atlas object.  Trajectory start/stop points are then stored in the traj_edges array."
   ]
  },
  {
   "cell_type": "code",
   "execution_count": 4,
   "metadata": {},
   "outputs": [
    {
     "name": "stdout",
     "output_type": "stream",
     "text": [
      "Flattened Shapes are:  (28000, 1) (28000,) (28000,)\n"
     ]
    }
   ],
   "source": [
    "flattened_trajs, traj_edges = tlist_to_flat(trajs)\n",
    "flattened_stateA = np.hstack(stateA)\n",
    "flattened_stateB = np.hstack(stateB)\n",
    "print(\"Flattened Shapes are: \", flattened_trajs.shape, flattened_stateA.shape, flattened_stateB.shape,)"
   ]
  },
  {
   "cell_type": "markdown",
   "metadata": {},
   "source": [
    "## Construct DGA MFPT by increasing lag times\n",
    "We first construct the MFPT with increasing lag times."
   ]
  },
  {
   "cell_type": "code",
   "execution_count": 5,
   "metadata": {},
   "outputs": [],
   "source": [
    "# Build the basis set\n",
    "diff_atlas = pyedgar.basis.DiffusionAtlas.from_sklearn(alpha=0, k=500, bandwidth_type='-1/d', epsilon='bgh_generous')\n",
    "diff_atlas.fit(flattened_trajs)\n",
    "flat_basis = diff_atlas.make_dirichlet_basis(200, in_domain=(1. - flattened_stateA))\n",
    "basis = flat_to_tlist(flat_basis, traj_edges)\n",
    "flat_basis_no_boundaries = diff_atlas.make_dirichlet_basis(200)\n",
    "basis_no_boundaries = flat_to_tlist(flat_basis_no_boundaries, traj_edges)"
   ]
  },
  {
   "cell_type": "code",
   "execution_count": 6,
   "metadata": {
    "scrolled": true
   },
   "outputs": [],
   "source": [
    "# Perform DGA calculation\n",
    "mfpt_BA_lags = []\n",
    "for lag in lag_values:\n",
    "    mfpt = pyedgar.galerkin.compute_mfpt(basis, stateA, lag=lag)\n",
    "    pi = pyedgar.galerkin.compute_change_of_measure(basis_no_boundaries, lag=lag)\n",
    "    flat_pi = np.array(pi).ravel()\n",
    "    flat_mfpt = np.array(mfpt).ravel()\n",
    "    mfpt_BA = np.mean(flat_mfpt * flat_pi * np.array(stateB).ravel()) / np.mean(flat_pi * np.array(stateB).ravel())\n",
    "    mfpt_BA_lags.append(mfpt_BA)"
   ]
  },
  {
   "cell_type": "markdown",
   "metadata": {},
   "source": [
    "## Construct DGA MFPT with increasing Delay Embedding\n",
    "We now construct the MFPT using delay embedding.  To accelerate the process, we will only use every fifth value of the delay length."
   ]
  },
  {
   "cell_type": "code",
   "execution_count": 7,
   "metadata": {},
   "outputs": [],
   "source": [
    "mfpt_BA_embeddings = []\n",
    "for lag in embedding_values:\n",
    "    # Perform delay embedding\n",
    "    debbed_traj = delay_embed(trajs, n_embed=lag)\n",
    "    lifted_A = lift_function(stateA, n_embed=lag)\n",
    "    lifted_B = lift_function(stateB, n_embed=lag)\n",
    "    \n",
    "    flat_debbed_traj, embed_edges = tlist_to_flat(debbed_traj)\n",
    "    flat_lifted_A = np.hstack(lifted_A)\n",
    "        \n",
    "    # Build the basis \n",
    "    diff_atlas = pyedgar.basis.DiffusionAtlas.from_sklearn(alpha=0, k=500, bandwidth_type='-1/d',\n",
    "                                                           epsilon='bgh_generous', neighbor_params={'algorithm':'brute'})\n",
    "    diff_atlas.fit(flat_debbed_traj)\n",
    "    flat_deb_basis = diff_atlas.make_dirichlet_basis(200, in_domain=(1. - flat_lifted_A))\n",
    "    deb_basis = flat_to_tlist(flat_deb_basis, embed_edges)\n",
    "    \n",
    "    flat_pi_basis = diff_atlas.make_dirichlet_basis(200)\n",
    "    pi_basis = flat_to_tlist(flat_deb_basis, embed_edges)\n",
    "    \n",
    "    \n",
    "    # Construct the Estimate\n",
    "    deb_mfpt = pyedgar.galerkin.compute_mfpt(deb_basis, lifted_A, lag=1)\n",
    "    pi = pyedgar.galerkin.compute_change_of_measure(pi_basis)\n",
    "    flat_pi = np.array(pi).ravel()\n",
    "    flat_mfpt = np.array(deb_mfpt).ravel()\n",
    "    deb_mfpt_BA = np.mean(flat_mfpt * flat_pi * np.array(lifted_B).ravel()) / np.mean(flat_pi * np.array(lifted_B).ravel())\n",
    "    mfpt_BA_embeddings.append(deb_mfpt_BA)"
   ]
  },
  {
   "cell_type": "markdown",
   "metadata": {},
   "source": [
    "## Plot the Results\n",
    "\n",
    "We plot the results of our calculation, against the true value (black line, with the standard deviation in stateB given by the dotted lines).  We see that increasing the lag time causes the mean-first-passage time to grow unboundedly.  In contrast, with delay embedding the mean-first-passage time converges. We do, however, see one bad fluction at a delay length of 16, and that as the the delay length gets sufficiently long, the calculation blows up."
   ]
  },
  {
   "cell_type": "code",
   "execution_count": 12,
   "metadata": {},
   "outputs": [
    {
     "data": {
      "text/plain": [
       "Text(0,0.5,'Estimated MFPT')"
      ]
     },
     "execution_count": 12,
     "metadata": {},
     "output_type": "execute_result"
    },
    {
     "data": {
      "image/png": "[encoded data removed]",
      "text/plain": [
       "<Figure size 432x288 with 1 Axes>"
      ]
     },
     "metadata": {},
     "output_type": "display_data"
    }
   ],
   "source": [
    "plt.plot(embedding_values, mfpt_BA_embeddings, label=\"Delay Embedding\")\n",
    "plt.plot(lag_values, mfpt_BA_lags, label=\"Lags\")\n",
    "plt.axhline(true_mfpt[0] * 10, color='k', label='True')\n",
    "plt.axhline((true_mfpt[0] + true_mfpt[1]) * 10., color='k', linestyle=':')\n",
    "plt.axhline((true_mfpt[0] - true_mfpt[1]) * 10., color='k', linestyle=':')\n",
    "\n",
    "plt.legend()\n",
    "plt.ylim(0, 100)\n",
    "\n",
    "plt.xlabel(\"Lag / Delay Length\")\n",
    "plt.ylabel(\"Estimated MFPT\")"
   ]
  },
  {
   "cell_type": "code",
   "execution_count": null,
   "metadata": {},
   "outputs": [],
   "source": []
  }
 ],
 "metadata": {
  "kernelspec": {
   "display_name": "Python 3",
   "language": "python",
   "name": "python3"
  },
  "language_info": {
   "codemirror_mode": {
    "name": "ipython",
    "version": 3
   },
   "file_extension": ".py",
   "mimetype": "text/x-python",
   "name": "python",
   "nbconvert_exporter": "python",
   "pygments_lexer": "ipython3",
   "version": "3.6.5"
  }
 },
 "nbformat": 4,
 "nbformat_minor": 2
}
