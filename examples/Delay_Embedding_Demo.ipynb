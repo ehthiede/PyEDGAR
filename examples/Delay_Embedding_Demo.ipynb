{
 "cells": [
  {
   "cell_type": "markdown",
   "metadata": {},
   "source": [
    "# Delay Embedding and the MFPT"
   ]
  },
  {
   "cell_type": "code",
   "execution_count": 1,
   "metadata": {},
   "outputs": [],
   "source": [
    "import matplotlib.pyplot as plt\n",
    "import numpy as np\n",
    "import pyedgar\n",
    "from pyedgar.data_manipulation import tlist_to_flat, flat_to_tlist, delay_embed, lift_function\n",
    "\n",
    "%matplotlib inline"
   ]
  },
  {
   "cell_type": "markdown",
   "metadata": {},
   "source": [
    "## Load Data and set Hyperparameters\n",
    "We first load in the pre-sampled data.  The data consists of 400 short trajectories, each with 30 datapoints.  The precise sampling procedure is described in \"Galerkin Approximation of Dynamical Quantities using Trajectory Data\" by Thiede et al.  Note that this is a smaller dataset than in the paper.  We use a smallar dataset to ensure the diffusion map basis construction runs in a reasonably short time."
   ]
  },
  {
   "cell_type": "markdown",
   "metadata": {},
   "source": [
    "### Set Hyperparameters\n",
    "Here we specify a few hyperparameters.  Thes can be varied to study the behavior of the scheme in various limits by the user."
   ]
  },
  {
   "cell_type": "code",
   "execution_count": 2,
   "metadata": {},
   "outputs": [],
   "source": [
    "ntraj = 300\n",
    "trajectory_length = 20"
   ]
  },
  {
   "cell_type": "markdown",
   "metadata": {},
   "source": [
    "### Load and format the data"
   ]
  },
  {
   "cell_type": "code",
   "execution_count": 3,
   "metadata": {},
   "outputs": [
    {
     "name": "stdout",
     "output_type": "stream",
     "text": [
      "Data shape:  (300, 20)\n"
     ]
    }
   ],
   "source": [
    "trajs = np.load('data/muller_brown_trajs.npy')[:ntraj, :trajectory_length, 1] # Raw trajectory\n",
    "stateA = (trajs > 1.15).astype('float')\n",
    "stateB = (trajs < 0.15).astype('float')\n",
    "print(\"Data shape: \", trajs.shape)\n",
    "\n",
    "# Convert to list of trajectories format\n",
    "trajs = [traj_i.reshape(-1, 1) for traj_i in trajs]\n",
    "stateA = [A_i for A_i in stateA]\n",
    "stateB = [B_i for B_i in stateB]\n",
    "\n",
    "# We also define a new trajectory to be used for plotting\n",
    "traj_2d = np.load('data/muller_brown_trajs.npy')[:ntraj, :trajectory_length, :2].reshape(-1 ,2)"
   ]
  },
  {
   "cell_type": "markdown",
   "metadata": {},
   "source": [
    "We also convert the data into the flattened format.  This converts the data into a 2D array, which allows the data to be passed into many ML packages that require a two-dimensional dataset.  In particular, this is the format accepted by the Diffusion Atlas object.  Trajectory start/stop points are then stored in the traj_edges array."
   ]
  },
  {
   "cell_type": "code",
   "execution_count": 4,
   "metadata": {},
   "outputs": [
    {
     "name": "stdout",
     "output_type": "stream",
     "text": [
      "Flattened Shapes are:  (6000, 1) (6000,) (6000,)\n"
     ]
    }
   ],
   "source": [
    "flattened_trajs, traj_edges = tlist_to_flat(trajs)\n",
    "flattened_stateA = np.hstack(stateA)\n",
    "flattened_stateB = np.hstack(stateB)\n",
    "print(\"Flattened Shapes are: \", flattened_trajs.shape, flattened_stateA.shape, flattened_stateB.shape,)"
   ]
  },
  {
   "cell_type": "markdown",
   "metadata": {},
   "source": [
    "## Construct DGA MFPT by increasing lag times\n",
    "We first construct the MFPT with increasing lag times."
   ]
  },
  {
   "cell_type": "code",
   "execution_count": 5,
   "metadata": {},
   "outputs": [],
   "source": [
    "# # Build the basis set\n",
    "# diff_atlas = pyedgar.basis.DiffusionAtlas.from_sklearn(alpha=0, k=500, bandwidth_type='-1/d', epsilon='bgh_generous')\n",
    "# diff_atlas.fit(flattened_trajs)\n",
    "# flat_basis = diff_atlas.make_dirichlet_basis(50, in_domain=(1. - flattened_stateA))\n",
    "# basis = flat_to_tlist(flat_basis, traj_edges)"
   ]
  },
  {
   "cell_type": "code",
   "execution_count": 6,
   "metadata": {
    "scrolled": true
   },
   "outputs": [],
   "source": [
    "# # Perform DGA calculation\n",
    "# mfpt_BA_lags = []\n",
    "# for lag in range(1,20):\n",
    "#     mfpt = pyedgar.galerkin.compute_mfpt(basis, stateA, lag=lag)\n",
    "#     mfpt_BA = np.mean(np.array(mfpt).ravel() * flattened_stateB) / np.mean(stateB)\n",
    "# #     pi = pyedgar.galerkin.compute_change_of_measure(basis_no_boundaries, lag=lag)\n",
    "#     mfpt_BA_lags.append(mfpt_BA)"
   ]
  },
  {
   "cell_type": "markdown",
   "metadata": {},
   "source": [
    "## Construct DGA MFPT with increasing Delay Embedding\n",
    "We now construct the MFPT using delay embedding.  To accelerate the process, we will only use every fifth value of the delay length."
   ]
  },
  {
   "cell_type": "code",
   "execution_count": 10,
   "metadata": {},
   "outputs": [
    {
     "name": "stdout",
     "output_type": "stream",
     "text": [
      "(300, 6, 50) (300, 6) <class 'list'> <class 'list'>\n",
      "------------\n",
      "1\n",
      "[   0    6   12   18   24   30   36   42   48   54   60   66   72   78\n",
      "   84   90   96  102  108  114  120  126  132  138  144  150  156  162\n",
      "  168  174  180  186  192  198  204  210  216  222  228  234  240  246\n",
      "  252  258  264  270  276  282  288  294  300  306  312  318  324  330\n",
      "  336  342  348  354  360  366  372  378  384  390  396  402  408  414\n",
      "  420  426  432  438  444  450  456  462  468  474  480  486  492  498\n",
      "  504  510  516  522  528  534  540  546  552  558  564  570  576  582\n",
      "  588  594  600  606  612  618  624  630  636  642  648  654  660  666\n",
      "  672  678  684  690  696  702  708  714  720  726  732  738  744  750\n",
      "  756  762  768  774  780  786  792  798  804  810  816  822  828  834\n",
      "  840  846  852  858  864  870  876  882  888  894  900  906  912  918\n",
      "  924  930  936  942  948  954  960  966  972  978  984  990  996 1002\n",
      " 1008 1014 1020 1026 1032 1038 1044 1050 1056 1062 1068 1074 1080 1086\n",
      " 1092 1098 1104 1110 1116 1122 1128 1134 1140 1146 1152 1158 1164 1170\n",
      " 1176 1182 1188 1194 1200 1206 1212 1218 1224 1230 1236 1242 1248 1254\n",
      " 1260 1266 1272 1278 1284 1290 1296 1302 1308 1314 1320 1326 1332 1338\n",
      " 1344 1350 1356 1362 1368 1374 1380 1386 1392 1398 1404 1410 1416 1422\n",
      " 1428 1434 1440 1446 1452 1458 1464 1470 1476 1482 1488 1494 1500 1506\n",
      " 1512 1518 1524 1530 1536 1542 1548 1554 1560 1566 1572 1578 1584 1590\n",
      " 1596 1602 1608 1614 1620 1626 1632 1638 1644 1650 1656 1662 1668 1674\n",
      " 1680 1686 1692 1698 1704 1710 1716 1722 1728 1734 1740 1746 1752 1758\n",
      " 1764 1770 1776 1782 1788 1794 1800]\n",
      "[   0    1    2 ... 1796 1797 1798] [   1    2    3 ... 1797 1798 1799]\n",
      "------------\n"
     ]
    },
    {
     "ename": "LinAlgError",
     "evalue": "Matrix is singular.",
     "output_type": "error",
     "traceback": [
      "\u001b[0;31m---------------------------------------------------------------------------\u001b[0m",
      "\u001b[0;31mLinAlgError\u001b[0m                               Traceback (most recent call last)",
      "\u001b[0;32m<ipython-input-10-0939eeea9ec3>\u001b[0m in \u001b[0;36m<module>\u001b[0;34m()\u001b[0m\n\u001b[1;32m     21\u001b[0m     \u001b[0;31m# Construct the Estimate\u001b[0m\u001b[0;34m\u001b[0m\u001b[0;34m\u001b[0m\u001b[0;34m\u001b[0m\u001b[0m\n\u001b[1;32m     22\u001b[0m     \u001b[0mprint\u001b[0m\u001b[0;34m(\u001b[0m\u001b[0mnp\u001b[0m\u001b[0;34m.\u001b[0m\u001b[0mshape\u001b[0m\u001b[0;34m(\u001b[0m\u001b[0mdeb_basis\u001b[0m\u001b[0;34m)\u001b[0m\u001b[0;34m,\u001b[0m \u001b[0mnp\u001b[0m\u001b[0;34m.\u001b[0m\u001b[0mshape\u001b[0m\u001b[0;34m(\u001b[0m\u001b[0mlifted_A\u001b[0m\u001b[0;34m)\u001b[0m\u001b[0;34m,\u001b[0m \u001b[0mtype\u001b[0m\u001b[0;34m(\u001b[0m\u001b[0mdeb_basis\u001b[0m\u001b[0;34m)\u001b[0m\u001b[0;34m,\u001b[0m \u001b[0mtype\u001b[0m\u001b[0;34m(\u001b[0m\u001b[0mlifted_A\u001b[0m\u001b[0;34m)\u001b[0m\u001b[0;34m)\u001b[0m\u001b[0;34m\u001b[0m\u001b[0;34m\u001b[0m\u001b[0m\n\u001b[0;32m---> 23\u001b[0;31m     \u001b[0mdeb_mfpt\u001b[0m \u001b[0;34m=\u001b[0m \u001b[0mpyedgar\u001b[0m\u001b[0;34m.\u001b[0m\u001b[0mgalerkin\u001b[0m\u001b[0;34m.\u001b[0m\u001b[0mcompute_mfpt\u001b[0m\u001b[0;34m(\u001b[0m\u001b[0mdeb_basis\u001b[0m\u001b[0;34m,\u001b[0m \u001b[0mlifted_A\u001b[0m\u001b[0;34m,\u001b[0m \u001b[0mlag\u001b[0m\u001b[0;34m=\u001b[0m\u001b[0;36m1\u001b[0m\u001b[0;34m)\u001b[0m\u001b[0;34m\u001b[0m\u001b[0;34m\u001b[0m\u001b[0m\n\u001b[0m\u001b[1;32m     24\u001b[0m     \u001b[0mdeb_mfpt_BA\u001b[0m \u001b[0;34m=\u001b[0m \u001b[0mnp\u001b[0m\u001b[0;34m.\u001b[0m\u001b[0mmean\u001b[0m\u001b[0;34m(\u001b[0m\u001b[0mnp\u001b[0m\u001b[0;34m.\u001b[0m\u001b[0marray\u001b[0m\u001b[0;34m(\u001b[0m\u001b[0mdeb_mfpt\u001b[0m\u001b[0;34m)\u001b[0m\u001b[0;34m.\u001b[0m\u001b[0mravel\u001b[0m\u001b[0;34m(\u001b[0m\u001b[0;34m)\u001b[0m \u001b[0;34m*\u001b[0m \u001b[0mnp\u001b[0m\u001b[0;34m.\u001b[0m\u001b[0marray\u001b[0m\u001b[0;34m(\u001b[0m\u001b[0mlifted_B\u001b[0m\u001b[0;34m)\u001b[0m\u001b[0;34m.\u001b[0m\u001b[0mravel\u001b[0m\u001b[0;34m(\u001b[0m\u001b[0;34m)\u001b[0m\u001b[0;34m)\u001b[0m \u001b[0;34m/\u001b[0m \u001b[0mnp\u001b[0m\u001b[0;34m.\u001b[0m\u001b[0mmean\u001b[0m\u001b[0;34m(\u001b[0m\u001b[0mstateB\u001b[0m\u001b[0;34m)\u001b[0m\u001b[0;34m\u001b[0m\u001b[0;34m\u001b[0m\u001b[0m\n\u001b[1;32m     25\u001b[0m     \u001b[0mmfpt_BA_embeddings\u001b[0m\u001b[0;34m.\u001b[0m\u001b[0mappend\u001b[0m\u001b[0;34m(\u001b[0m\u001b[0mdeb_mfpt_BA\u001b[0m\u001b[0;34m)\u001b[0m\u001b[0;34m\u001b[0m\u001b[0;34m\u001b[0m\u001b[0m\n",
      "\u001b[0;32m~/My_Source_Codes/PyEDGAR/src/pyedgar/galerkin.py\u001b[0m in \u001b[0;36mcompute_mfpt\u001b[0;34m(basis, stateA, lag, dt)\u001b[0m\n\u001b[1;32m     36\u001b[0m     \"\"\"\n\u001b[1;32m     37\u001b[0m     \u001b[0mcomplement\u001b[0m \u001b[0;34m=\u001b[0m \u001b[0;34m[\u001b[0m\u001b[0;34m(\u001b[0m\u001b[0mA_i\u001b[0m \u001b[0;34m-\u001b[0m \u001b[0;36m1.\u001b[0m\u001b[0;34m)\u001b[0m \u001b[0;32mfor\u001b[0m \u001b[0mA_i\u001b[0m \u001b[0;32min\u001b[0m \u001b[0mstateA\u001b[0m\u001b[0;34m]\u001b[0m\u001b[0;34m\u001b[0m\u001b[0;34m\u001b[0m\u001b[0m\n\u001b[0;32m---> 38\u001b[0;31m     \u001b[0msoln\u001b[0m \u001b[0;34m=\u001b[0m \u001b[0mcompute_FK\u001b[0m\u001b[0;34m(\u001b[0m\u001b[0mbasis\u001b[0m\u001b[0;34m,\u001b[0m \u001b[0mcomplement\u001b[0m\u001b[0;34m,\u001b[0m \u001b[0mlag\u001b[0m\u001b[0;34m=\u001b[0m\u001b[0mlag\u001b[0m\u001b[0;34m,\u001b[0m \u001b[0mdt\u001b[0m\u001b[0;34m=\u001b[0m\u001b[0mdt\u001b[0m\u001b[0;34m)\u001b[0m\u001b[0;34m\u001b[0m\u001b[0;34m\u001b[0m\u001b[0m\n\u001b[0m\u001b[1;32m     39\u001b[0m     \u001b[0;32mreturn\u001b[0m \u001b[0msoln\u001b[0m\u001b[0;34m\u001b[0m\u001b[0;34m\u001b[0m\u001b[0m\n\u001b[1;32m     40\u001b[0m \u001b[0;34m\u001b[0m\u001b[0m\n",
      "\u001b[0;32m~/My_Source_Codes/PyEDGAR/src/pyedgar/galerkin.py\u001b[0m in \u001b[0;36mcompute_FK\u001b[0;34m(basis, h, r, lag, dt, return_coeffs)\u001b[0m\n\u001b[1;32m    229\u001b[0m         \u001b[0mL_guess\u001b[0m \u001b[0;34m=\u001b[0m \u001b[0mcompute_generator\u001b[0m\u001b[0;34m(\u001b[0m\u001b[0mbasis\u001b[0m\u001b[0;34m,\u001b[0m \u001b[0mr\u001b[0m\u001b[0;34m,\u001b[0m \u001b[0mlag\u001b[0m\u001b[0;34m=\u001b[0m\u001b[0mlag\u001b[0m\u001b[0;34m,\u001b[0m \u001b[0mdt\u001b[0m\u001b[0;34m=\u001b[0m\u001b[0mdt\u001b[0m\u001b[0;34m)\u001b[0m\u001b[0;34m\u001b[0m\u001b[0;34m\u001b[0m\u001b[0m\n\u001b[1;32m    230\u001b[0m         \u001b[0mh_i\u001b[0m \u001b[0;34m-=\u001b[0m \u001b[0mL_guess\u001b[0m\u001b[0;34m\u001b[0m\u001b[0;34m\u001b[0m\u001b[0m\n\u001b[0;32m--> 231\u001b[0;31m     \u001b[0mcoeffs\u001b[0m \u001b[0;34m=\u001b[0m \u001b[0mspl\u001b[0m\u001b[0;34m.\u001b[0m\u001b[0msolve\u001b[0m\u001b[0;34m(\u001b[0m\u001b[0mL_basis\u001b[0m\u001b[0;34m,\u001b[0m \u001b[0mh_i\u001b[0m\u001b[0;34m.\u001b[0m\u001b[0mravel\u001b[0m\u001b[0;34m(\u001b[0m\u001b[0;34m)\u001b[0m\u001b[0;34m)\u001b[0m\u001b[0;34m\u001b[0m\u001b[0;34m\u001b[0m\u001b[0m\n\u001b[0m\u001b[1;32m    232\u001b[0m \u001b[0;34m\u001b[0m\u001b[0m\n\u001b[1;32m    233\u001b[0m     \u001b[0;31m# Construct solution vector\u001b[0m\u001b[0;34m\u001b[0m\u001b[0;34m\u001b[0m\u001b[0;34m\u001b[0m\u001b[0m\n",
      "\u001b[0;32m~/anaconda3/lib/python3.7/site-packages/scipy/linalg/basic.py\u001b[0m in \u001b[0;36msolve\u001b[0;34m(a, b, sym_pos, lower, overwrite_a, overwrite_b, debug, check_finite, assume_a, transposed)\u001b[0m\n\u001b[1;32m    214\u001b[0m                                                (a1, b1))\n\u001b[1;32m    215\u001b[0m         \u001b[0mlu\u001b[0m\u001b[0;34m,\u001b[0m \u001b[0mipvt\u001b[0m\u001b[0;34m,\u001b[0m \u001b[0minfo\u001b[0m \u001b[0;34m=\u001b[0m \u001b[0mgetrf\u001b[0m\u001b[0;34m(\u001b[0m\u001b[0ma1\u001b[0m\u001b[0;34m,\u001b[0m \u001b[0moverwrite_a\u001b[0m\u001b[0;34m=\u001b[0m\u001b[0moverwrite_a\u001b[0m\u001b[0;34m)\u001b[0m\u001b[0;34m\u001b[0m\u001b[0;34m\u001b[0m\u001b[0m\n\u001b[0;32m--> 216\u001b[0;31m         \u001b[0m_solve_check\u001b[0m\u001b[0;34m(\u001b[0m\u001b[0mn\u001b[0m\u001b[0;34m,\u001b[0m \u001b[0minfo\u001b[0m\u001b[0;34m)\u001b[0m\u001b[0;34m\u001b[0m\u001b[0;34m\u001b[0m\u001b[0m\n\u001b[0m\u001b[1;32m    217\u001b[0m         x, info = getrs(lu, ipvt, b1,\n\u001b[1;32m    218\u001b[0m                         trans=trans, overwrite_b=overwrite_b)\n",
      "\u001b[0;32m~/anaconda3/lib/python3.7/site-packages/scipy/linalg/basic.py\u001b[0m in \u001b[0;36m_solve_check\u001b[0;34m(n, info, lamch, rcond)\u001b[0m\n\u001b[1;32m     29\u001b[0m                          '.'.format(-info))\n\u001b[1;32m     30\u001b[0m     \u001b[0;32melif\u001b[0m \u001b[0;36m0\u001b[0m \u001b[0;34m<\u001b[0m \u001b[0minfo\u001b[0m\u001b[0;34m:\u001b[0m\u001b[0;34m\u001b[0m\u001b[0;34m\u001b[0m\u001b[0m\n\u001b[0;32m---> 31\u001b[0;31m         \u001b[0;32mraise\u001b[0m \u001b[0mLinAlgError\u001b[0m\u001b[0;34m(\u001b[0m\u001b[0;34m'Matrix is singular.'\u001b[0m\u001b[0;34m)\u001b[0m\u001b[0;34m\u001b[0m\u001b[0;34m\u001b[0m\u001b[0m\n\u001b[0m\u001b[1;32m     32\u001b[0m \u001b[0;34m\u001b[0m\u001b[0m\n\u001b[1;32m     33\u001b[0m     \u001b[0;32mif\u001b[0m \u001b[0mlamch\u001b[0m \u001b[0;32mis\u001b[0m \u001b[0;32mNone\u001b[0m\u001b[0;34m:\u001b[0m\u001b[0;34m\u001b[0m\u001b[0;34m\u001b[0m\u001b[0m\n",
      "\u001b[0;31mLinAlgError\u001b[0m: Matrix is singular."
     ]
    }
   ],
   "source": [
    "import importlib\n",
    "importlib.reload(pyedgar)\n",
    "\n",
    "mfpt_BA_embeddings = []\n",
    "for lag in range(14, 15, 5):\n",
    "    # Perform delay embedding\n",
    "    debbed_traj = delay_embed(trajs, n_embed=lag)\n",
    "    lifted_A = lift_function(stateA, n_embed=lag)\n",
    "    lifted_B = lift_function(stateB, n_embed=lag)\n",
    "    \n",
    "    flat_debbed_traj, embed_edges = tlist_to_flat(debbed_traj)\n",
    "    flat_lifted_A = np.vstack(lifted_A)\n",
    "        \n",
    "    # Build the basis \n",
    "    diff_atlas = pyedgar.basis.DiffusionAtlas.from_sklearn(alpha=0, k=500, bandwidth_type='-1/d',\n",
    "                                                           epsilon='bgh_generous')\n",
    "    diff_atlas.fit(flat_debbed_traj)\n",
    "    flat_deb_basis = diff_atlas.make_dirichlet_basis(50, in_domain=(1. - flat_lifted_A))\n",
    "    deb_basis = flat_to_tlist(flat_deb_basis, embed_edges)\n",
    "    \n",
    "    # Construct the Estimate\n",
    "    print(np.shape(deb_basis), np.shape(lifted_A), type(deb_basis), type(lifted_A))\n",
    "    deb_mfpt = pyedgar.galerkin.compute_mfpt(deb_basis, lifted_A, lag=1)\n",
    "    deb_mfpt_BA = np.mean(np.array(deb_mfpt).ravel() * np.array(lifted_B).ravel()) / np.mean(stateB)\n",
    "    mfpt_BA_embeddings.append(deb_mfpt_BA)"
   ]
  },
  {
   "cell_type": "code",
   "execution_count": null,
   "metadata": {},
   "outputs": [],
   "source": [
    "plt.scatter(range(4, 15, 5), mfpt_BA_embeddings)"
   ]
  },
  {
   "cell_type": "markdown",
   "metadata": {},
   "source": [
    "## Compare against reference\n",
    "\n",
    "To compare against the reference values, we will interpolate the reference onto the datapoints usingy scipy's interpolate package."
   ]
  },
  {
   "cell_type": "code",
   "execution_count": null,
   "metadata": {},
   "outputs": [],
   "source": [
    "import scipy.interpolate as spi\n",
    "\n",
    "spline = spi.RectBivariateSpline(xgrid, ygrid, ref_comm.T)\n",
    "ref_comm_on_data = np.array([spline.ev(c[0], c[1]) for c in flattened_trajs[:,:2]])\n",
    "ref_comm_on_data[ref_comm_on_data < 0.] = 0.\n",
    "ref_comm_on_data[ref_comm_on_data > 1.] = 1."
   ]
  },
  {
   "cell_type": "markdown",
   "metadata": {},
   "source": [
    "A comparison of our estimate with the True committor.  While the estimate is good, we systematically underestimate the committor near (0, 0.5)."
   ]
  },
  {
   "cell_type": "code",
   "execution_count": null,
   "metadata": {},
   "outputs": [],
   "source": [
    "fig, axes = plt.subplots(1, 3, figsize=(16,3.5), sharex=True, sharey=True)\n",
    "(ax1, ax2, ax3) = axes\n",
    "SC = ax1.scatter(flattened_trajs[:,0], flattened_trajs[:,1], c=ref_comm_on_data, vmin=0., vmax=1., s=3)\n",
    "plt.colorbar(SC, ax=ax1)\n",
    "SC = ax2.scatter(flattened_trajs[:,0], flattened_trajs[:,1], c=np.array(g).ravel(), vmin=0., vmax=1., s=3)\n",
    "plt.colorbar(SC, ax=ax2)\n",
    "SC = ax3.scatter(flattened_trajs[:,0], flattened_trajs[:,1], c=np.array(g).ravel() -ref_comm_on_data, \n",
    "                 vmin=-1, vmax=1, s=3, cmap='bwr')\n",
    "plt.colorbar(SC, ax=ax3)\n",
    "\n",
    "\n",
    "# ax1.set_aspect('equal')\n",
    "ax2.set_xlabel('x')\n",
    "ax1.set_ylabel('y')\n",
    "ax1.set_title('True Committor')\n",
    "ax2.set_title('DGA Estimate')\n",
    "ax3.set_title('Estimate - True')\n",
    "plt.tight_layout(pad=-1.)\n",
    "for ax in axes:\n",
    "    ax.set_aspect('equal')"
   ]
  }
 ],
 "metadata": {
  "kernelspec": {
   "display_name": "Python 3",
   "language": "python",
   "name": "python3"
  },
  "language_info": {
   "codemirror_mode": {
    "name": "ipython",
    "version": 3
   },
   "file_extension": ".py",
   "mimetype": "text/x-python",
   "name": "python",
   "nbconvert_exporter": "python",
   "pygments_lexer": "ipython3",
   "version": "3.7.1"
  }
 },
 "nbformat": 4,
 "nbformat_minor": 2
}
